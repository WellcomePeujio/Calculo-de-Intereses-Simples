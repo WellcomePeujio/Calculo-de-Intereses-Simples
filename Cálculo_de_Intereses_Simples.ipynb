{
  "nbformat": 4,
  "nbformat_minor": 0,
  "metadata": {
    "colab": {
      "private_outputs": true,
      "provenance": [],
      "authorship_tag": "ABX9TyNMCePzW7SH/xWrLeUVGofP",
      "include_colab_link": true
    },
    "kernelspec": {
      "name": "python3",
      "display_name": "Python 3"
    },
    "language_info": {
      "name": "python"
    }
  },
  "cells": [
    {
      "cell_type": "markdown",
      "metadata": {
        "id": "view-in-github",
        "colab_type": "text"
      },
      "source": [
        "<a href=\"https://colab.research.google.com/github/WellcomePeujio/Calculo-de-Intereses-Simples/blob/main/C%C3%A1lculo_de_Intereses_Simples.ipynb\" target=\"_parent\"><img src=\"https://colab.research.google.com/assets/colab-badge.svg\" alt=\"Open In Colab\"/></a>"
      ]
    },
    {
      "cell_type": "markdown",
      "source": [
        "# Cálculo de Intereses Simples\n",
        "\n",
        "## Planteamiento del Problema\n",
        "\n",
        "Supongamos que inviertes $10,000 con una tasa de interés anual del 5% durante 3 años.\n",
        "\n",
        "### Objetivos:\n",
        "1. Define las variables para el monto inicial, la tasa de interés y los años.\n",
        "2. Calcula los intereses generados usando la fórmula:  \n",
        "\n",
        "$$\n",
        "Intereses = Principal \\times Tasa \\times Tiempo\n",
        "$$\n",
        "\n",
        "3. Imprime el monto total después de 3 años utilizando la fórmula:  \n",
        "\n",
        "$$\n",
        "Total = Principal + Intereses\n",
        "$$\n"
      ],
      "metadata": {
        "id": "CvkOrNGx1cnL"
      }
    },
    {
      "cell_type": "code",
      "source": [
        "# Definición de las variables\n",
        "principal = 10000  # Monto inicial en dólares\n",
        "tasa = 0.05        # Tasa de interés anual (5%)\n",
        "tiempo = 3         # Duración de la inversión en años\n",
        "\n",
        "# Cálculo de los intereses\n",
        "intereses = principal * tasa * tiempo\n",
        "\n",
        "# Cálculo del monto total después de 3 años\n",
        "total = principal + intereses\n",
        "\n",
        "# Mostrar los resultados\n",
        "print(\"Intereses generados: ${:.2f}\".format(intereses))\n",
        "print(\"Monto total después de 3 años: ${:.2f}\".format(total))"
      ],
      "metadata": {
        "id": "DyharWL21jG5"
      },
      "execution_count": null,
      "outputs": []
    }
  ]
}